{
 "cells": [
  {
   "cell_type": "markdown",
   "id": "92b903ab-b50e-4f44-a32f-c4fd4115f866",
   "metadata": {},
   "source": [
    "# Data Science Tools and Ecosystem"
   ]
  },
  {
   "cell_type": "markdown",
   "id": "2e556696-a7b1-4690-b45c-7231e70cba81",
   "metadata": {},
   "source": [
    "In this netbook, Data Science Tools and Ecosystem are summarized"
   ]
  },
  {
   "cell_type": "markdown",
   "id": "9a104750-4690-4863-b680-1edd94d2dfcf",
   "metadata": {},
   "source": [
    "**Objectives:**\n",
    "- List popular languages for Data Science\n",
    "- List commonly used libraries used by Data Scientists\n",
    "- List common open source tools used in Data Science"
   ]
  },
  {
   "cell_type": "markdown",
   "id": "49ce4418-af76-43fb-910e-97dfd7d52488",
   "metadata": {},
   "source": [
    "Some of the commonly used libraries used by Data Scientists include: \n",
    "1. Python\n",
    "2. R\n",
    "3. SQL\n",
    "4. Scala\n",
    "5. Julia\n",
    "6. C\n",
    "7. C++\n",
    "8. Java"
   ]
  },
  {
   "cell_type": "markdown",
   "id": "58d0f8f0-4a6a-46a6-a644-1f6a4cc33f42",
   "metadata": {},
   "source": [
    "Some of the commonly used libraries used by Data Scientists include: \n",
    "1. ggplot\n",
    "2. Pandas\n",
    "3. Numpy\n",
    "4. Matplotlib\n",
    "5. Seaborn"
   ]
  },
  {
   "cell_type": "markdown",
   "id": "19104405-0158-449d-9a2d-09da70d280e2",
   "metadata": {},
   "source": [
    "| Data Science Tools |\n",
    "|-------------------|\n",
    "| Jupyter IDE |\n",
    "| Rstudio IDE |\n",
    "| Microsoft Visual Studio IDE |"
   ]
  },
  {
   "cell_type": "markdown",
   "id": "eb3af952-1f83-48f6-bef5-9f1a9c701ac1",
   "metadata": {},
   "source": [
    "### Below are a few examples of evaluating arithmetic expressions in Python"
   ]
  },
  {
   "cell_type": "code",
   "execution_count": 14,
   "id": "187570a4-915e-443c-9559-b663b5084312",
   "metadata": {},
   "outputs": [
    {
     "data": {
      "text/plain": [
       "17"
      ]
     },
     "execution_count": 14,
     "metadata": {},
     "output_type": "execute_result"
    }
   ],
   "source": [
    "# This is a simple arithmetic expression to multiply then add integers\n",
    "(3*4)+5"
   ]
  },
  {
   "cell_type": "code",
   "execution_count": 16,
   "id": "bb0871b4-7b10-49ee-8893-003ba3780d27",
   "metadata": {},
   "outputs": [
    {
     "data": {
      "text/plain": [
       "3.3333333333333335"
      ]
     },
     "execution_count": 16,
     "metadata": {},
     "output_type": "execute_result"
    }
   ],
   "source": [
    "# this will convert 200 minutes to hours by dividing by 60\n",
    "200/60"
   ]
  },
  {
   "cell_type": "markdown",
   "id": "fe6a39c8-c5f4-4c91-9435-61af81ea778b",
   "metadata": {},
   "source": [
    "## Author\n",
    "Yanina Rizzi"
   ]
  }
 ],
 "metadata": {
  "kernelspec": {
   "display_name": "Python [conda env:base] *",
   "language": "python",
   "name": "conda-base-py"
  },
  "language_info": {
   "codemirror_mode": {
    "name": "ipython",
    "version": 3
   },
   "file_extension": ".py",
   "mimetype": "text/x-python",
   "name": "python",
   "nbconvert_exporter": "python",
   "pygments_lexer": "ipython3",
   "version": "3.12.7"
  }
 },
 "nbformat": 4,
 "nbformat_minor": 5
}
